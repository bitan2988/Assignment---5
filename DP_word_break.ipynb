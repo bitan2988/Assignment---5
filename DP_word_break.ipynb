{
  "nbformat": 4,
  "nbformat_minor": 0,
  "metadata": {
    "colab": {
      "name": "DP_word_break.ipynb",
      "provenance": [],
      "collapsed_sections": [],
      "authorship_tag": "ABX9TyNq2IvIiVjxtUtzmM8BBRF8",
      "include_colab_link": true
    },
    "kernelspec": {
      "name": "python3",
      "display_name": "Python 3"
    }
  },
  "cells": [
    {
      "cell_type": "markdown",
      "metadata": {
        "id": "view-in-github",
        "colab_type": "text"
      },
      "source": [
        "<a href=\"https://colab.research.google.com/github/bitan2988/DSA-cheatsheet-practice/blob/master/DP_word_break.ipynb\" target=\"_parent\"><img src=\"https://colab.research.google.com/assets/colab-badge.svg\" alt=\"Open In Colab\"/></a>"
      ]
    },
    {
      "cell_type": "code",
      "metadata": {
        "colab": {
          "base_uri": "https://localhost:8080/"
        },
        "id": "m63_6i57ANa8",
        "outputId": "2bb697c3-7b4c-4471-caa9-e5fe4a4ac630"
      },
      "source": [
        " #https://www.youtube.com/watch?v=WepWFGxiwRs\r\n",
        " \r\n",
        " result = []\r\n",
        "\r\n",
        "def dc(word):\r\n",
        "  global result\r\n",
        "  d = [\"icecream\", \"and\", \"go\", \"i\", \"like\", \"ice\", \"cream\", \"mobile\", \"samsung\", \"sam\", \"sung\", \"man\", \"mango\"]\r\n",
        "  for i in d:\r\n",
        "    if (i==word):\r\n",
        "      result.append(i)\r\n",
        "      return 1\r\n",
        "\r\n",
        "def wbreak(s):\r\n",
        "  if (len(s)==0):\r\n",
        "    return True\r\n",
        "  dp = []\r\n",
        "  for i in range(len(s)+1):\r\n",
        "    temp = []\r\n",
        "    for j in range(len(s)+1):\r\n",
        "      temp.append(0)\r\n",
        "    dp.append(temp)\r\n",
        "  for i in range(len(s)):\r\n",
        "    if (dc(s[i])):\r\n",
        "      dp[i][i] = 1\r\n",
        "  for l in range(1,len(s)+1):\r\n",
        "    for k in range(len(s)-l+1):\r\n",
        "      #print(s[k:k+l],\"\\n\")\r\n",
        "      j = k+l-1\r\n",
        "      if (dc(s[k:j+1])):\r\n",
        "        dp[k][j] = 1\r\n",
        "      else:\r\n",
        "#find a z between i+1 to j such that T[i][k-1] && T[k][j] are both true --> splitting the substring\r\n",
        "        z = k+1\r\n",
        "        while (z<=j):\r\n",
        "          if (dp[i][z-1] != 0 and dp[z][j] != 0):\r\n",
        "            dp[z][j] = 1\r\n",
        "            break\r\n",
        "          z +=1\r\n",
        "\r\n",
        "if __name__ == \"__main__\":\r\n",
        "  s = input()\r\n",
        "  wbreak(s)\r\n",
        "  print(\"result\",result)\r\n",
        "    "
      ],
      "execution_count": 35,
      "outputs": [
        {
          "output_type": "stream",
          "text": [
            "samsungandmango\n",
            "result ['go', 'sam', 'and', 'man', 'sung', 'mango', 'samsung']\n"
          ],
          "name": "stdout"
        }
      ]
    },
    {
      "cell_type": "code",
      "metadata": {
        "id": "EWkrBpuIQsYk"
      },
      "source": [
        ""
      ],
      "execution_count": 7,
      "outputs": []
    }
  ]
}
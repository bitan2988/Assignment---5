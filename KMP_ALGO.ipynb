{
  "nbformat": 4,
  "nbformat_minor": 0,
  "metadata": {
    "colab": {
      "name": "KMP_ALGO.ipynb",
      "provenance": [],
      "collapsed_sections": [],
      "authorship_tag": "ABX9TyMdLeSgAmmgjOnhHtIgvyW0",
      "include_colab_link": true
    },
    "kernelspec": {
      "name": "python3",
      "display_name": "Python 3"
    }
  },
  "cells": [
    {
      "cell_type": "markdown",
      "metadata": {
        "id": "view-in-github",
        "colab_type": "text"
      },
      "source": [
        "<a href=\"https://colab.research.google.com/github/bitan2988/DSA-cheatsheet-practice/blob/master/KMP_ALGO.ipynb\" target=\"_parent\"><img src=\"https://colab.research.google.com/assets/colab-badge.svg\" alt=\"Open In Colab\"/></a>"
      ]
    },
    {
      "cell_type": "markdown",
      "metadata": {
        "id": "B4cPqguGAIeC"
      },
      "source": [
        "https://www.geeksforgeeks.org/kmp-algorithm-for-pattern-searching/\r\n",
        "\r\n",
        "https://www.youtube.com/watch?v=GTJr8OvyEVQ&t=519s\r\n",
        "\r\n",
        "https://www.youtube.com/watch?v=V5-7GzOfADQ&t=906s"
      ]
    },
    {
      "cell_type": "code",
      "metadata": {
        "colab": {
          "base_uri": "https://localhost:8080/"
        },
        "id": "g-uTnN9_6QvQ",
        "outputId": "b2ffc5ce-a3bd-4a64-e25d-726a64ba9366"
      },
      "source": [
        "s = \"HELLOTHISISBITANSISB\"\r\n",
        "pat = \"SISB\"\r\n",
        "fp = 1                                #using two pointer method to find same value fp = forward pointer and bp = backward pointer\r\n",
        "bp = 0\r\n",
        "m = len(pat)\r\n",
        "lps = [0 for i in range(m)]\r\n",
        "while (fp<m):\r\n",
        "  if (pat[fp]==pat[bp]):\r\n",
        "    bp +=1\r\n",
        "    lps[fp] = bp\r\n",
        "    fp +=1\r\n",
        "  else:\r\n",
        "    if (bp!=0):\r\n",
        "      bp = lps[bp-1]                     #going to index stored by the previous element\r\n",
        "    else:\r\n",
        "      lps[fp] = 0\r\n",
        "      fp +=1\r\n",
        "print(lps)\r\n",
        "i = j = 0\r\n",
        "for i in range(len(s)+1):\r\n",
        "  if (j>=len(pat)):\r\n",
        "    print(\"PATTERN FOUND AT INDEX \",i-m+1)     # i is pointing to last index of the matched pattern \r\n",
        "    i +=1\r\n",
        "    j = 0\r\n",
        "  elif (s[i]==pat[j]):\r\n",
        "    i +=1\r\n",
        "    j +=1\r\n",
        "  else:\r\n",
        "    j = lps[j]                                 #Go to the index stored at the value\r\n"
      ],
      "execution_count": 16,
      "outputs": [
        {
          "output_type": "stream",
          "text": [
            "[0, 0, 1, 0]\n",
            "PATTERN FOUND AT INDEX  9\n",
            "PATTERN FOUND AT INDEX  17\n"
          ],
          "name": "stdout"
        }
      ]
    },
    {
      "cell_type": "code",
      "metadata": {
        "id": "PiA__a2Z7LUz"
      },
      "source": [
        "s = \"HELLOTHISISBITAN\"\r\n",
        "pat = \"ISISB\"\r\n",
        "i = j = 0\r\n",
        "for i in range(len(s)):\r\n",
        "  if (j>=len(pat)):\r\n",
        "    print(\"PATTERN FOUND AT INDEX \",j-1)\r\n",
        "  elif (s[i]==pat[j]):\r\n",
        "    i +=1\r\n",
        "    j +=1\r\n",
        "  else:\r\n",
        "    j = lps[j]\r\n"
      ],
      "execution_count": null,
      "outputs": []
    }
  ]
}
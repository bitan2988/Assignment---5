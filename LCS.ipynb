{
  "nbformat": 4,
  "nbformat_minor": 0,
  "metadata": {
    "colab": {
      "name": "LCS.ipynb",
      "provenance": [],
      "collapsed_sections": [],
      "authorship_tag": "ABX9TyMruTuWe4dMiPS7xRX/zgfA",
      "include_colab_link": true
    },
    "kernelspec": {
      "name": "python3",
      "display_name": "Python 3"
    }
  },
  "cells": [
    {
      "cell_type": "markdown",
      "metadata": {
        "id": "view-in-github",
        "colab_type": "text"
      },
      "source": [
        "<a href=\"https://colab.research.google.com/github/bitan2988/DSA-cheatsheet-practice/blob/master/LCS.ipynb\" target=\"_parent\"><img src=\"https://colab.research.google.com/assets/colab-badge.svg\" alt=\"Open In Colab\"/></a>"
      ]
    },
    {
      "cell_type": "markdown",
      "metadata": {
        "id": "PTk1vrjAKpXe"
      },
      "source": [
        "https://www.geeksforgeeks.org/longest-common-subsequence-dp-4/\r\n",
        "\r\n"
      ]
    },
    {
      "cell_type": "code",
      "metadata": {
        "colab": {
          "base_uri": "https://localhost:8080/"
        },
        "id": "hHV9v5NKzZo2",
        "outputId": "500ff852-4b3d-46b6-f48e-70f31f86d631"
      },
      "source": [
        "s1 = \"hello\"\r\n",
        "s2 = \"fellow\"\r\n",
        "dp = []\r\n",
        "for i in range(len(s1)+1):\r\n",
        "  temp = []\r\n",
        "  for j in range(len(s2)+1):\r\n",
        "    temp.append(0)\r\n",
        "  dp.append(temp)\r\n",
        "print(dp)\r\n",
        "for i in range(1,len(s1)+1):\r\n",
        "  for j in range(1,len(s2)+1):\r\n",
        "    if (s1[i-1]==s2[j-1]):\r\n",
        "      dp[i][j] = dp[i-1][j-1]+1\r\n",
        "    else:\r\n",
        "      dp[i][j] = max(dp[i-1][j] , dp[i][j-1])\r\n",
        "print(dp)"
      ],
      "execution_count": 10,
      "outputs": [
        {
          "output_type": "stream",
          "text": [
            "[[0, 0, 0, 0, 0, 0, 0], [0, 0, 0, 0, 0, 0, 0], [0, 0, 0, 0, 0, 0, 0], [0, 0, 0, 0, 0, 0, 0], [0, 0, 0, 0, 0, 0, 0], [0, 0, 0, 0, 0, 0, 0]]\n",
            "[[0, 0, 0, 0, 0, 0, 0], [0, 0, 0, 0, 0, 0, 0], [0, 0, 1, 1, 1, 1, 1], [0, 0, 1, 2, 2, 2, 2], [0, 0, 1, 2, 3, 3, 3], [0, 0, 1, 2, 3, 4, 4]]\n"
          ],
          "name": "stdout"
        }
      ]
    },
    {
      "cell_type": "code",
      "metadata": {
        "colab": {
          "base_uri": "https://localhost:8080/"
        },
        "id": "Bq_KMu9OGPvF",
        "outputId": "330938da-d320-424e-eb3c-5652bbea29e5"
      },
      "source": [
        "#lenght of the LCS is stored in dp[len(s1)][len(s2)]\r\n",
        "print(dp[len(s1)][len(s2)])"
      ],
      "execution_count": 11,
      "outputs": [
        {
          "output_type": "stream",
          "text": [
            "4\n"
          ],
          "name": "stdout"
        }
      ]
    },
    {
      "cell_type": "code",
      "metadata": {
        "colab": {
          "base_uri": "https://localhost:8080/"
        },
        "id": "t5aasuBPIPPu",
        "outputId": "59d7fcbd-33ce-4b77-fe5f-35dedb1524f1"
      },
      "source": [
        "#To print the chars we just  have to traverse in the bottom up manner and whenver we find a decrement in a row we add the char and moveto the row above\r\n",
        "s = \"\"\r\n",
        "i = len(s1)\r\n",
        "while (i>0):\r\n",
        "  j = len(s2)\r\n",
        "  while (j>1):\r\n",
        "    if (dp[i][j]>dp[i][j-1]):\r\n",
        "      s +=s1[j-1]\r\n",
        "      i = i-1\r\n",
        "      j =j-1\r\n",
        "    else:\r\n",
        "      j  -=1\r\n",
        "  else:\r\n",
        "    i -=1\r\n",
        "print(s[::-1])"
      ],
      "execution_count": 19,
      "outputs": [
        {
          "output_type": "stream",
          "text": [
            "ello\n"
          ],
          "name": "stdout"
        }
      ]
    },
    {
      "cell_type": "code",
      "metadata": {
        "id": "kZBcm5QaKkmI"
      },
      "source": [
        ""
      ],
      "execution_count": null,
      "outputs": []
    }
  ]
}
{
  "nbformat": 4,
  "nbformat_minor": 0,
  "metadata": {
    "colab": {
      "name": "LONGEST_INC_SUBS.ipynb",
      "provenance": [],
      "authorship_tag": "ABX9TyOm7Ew6aeDjNfsE7NwD6NAx",
      "include_colab_link": true
    },
    "kernelspec": {
      "name": "python3",
      "display_name": "Python 3"
    }
  },
  "cells": [
    {
      "cell_type": "markdown",
      "metadata": {
        "id": "view-in-github",
        "colab_type": "text"
      },
      "source": [
        "<a href=\"https://colab.research.google.com/github/bitan2988/DSA-cheatsheet-practice/blob/master/LONGEST_INC_SUBS.ipynb\" target=\"_parent\"><img src=\"https://colab.research.google.com/assets/colab-badge.svg\" alt=\"Open In Colab\"/></a>"
      ]
    },
    {
      "cell_type": "markdown",
      "metadata": {
        "id": "9rjZwZhdzw6F"
      },
      "source": [
        "**LONGEST INCREASING SUBSEQUENCE O(NlogN)**\r\n",
        "\r\n",
        "**https://www.youtube.com/watch?v=TocJOW6vx_I**"
      ]
    },
    {
      "cell_type": "code",
      "metadata": {
        "colab": {
          "base_uri": "https://localhost:8080/"
        },
        "id": "ZHP7rOg5gZZF",
        "outputId": "01118fbe-1e26-4003-aa9c-51fa2d6ac7bb"
      },
      "source": [
        "#https://www.youtube.com/watch?v=TocJOW6vx_I\r\n",
        "\r\n",
        "import math\r\n",
        "def binarySearch(lis, val, low, high):\r\n",
        "  while (low<high):\r\n",
        "    mid = math.floor((low+high)/2)\r\n",
        "    print(f\"low = {low}, high = {high}, mid = {mid}\")\r\n",
        "    if (lis[mid]==val+1):\r\n",
        "      return mid\r\n",
        "    elif (val>lis[mid]):\r\n",
        "      low = mid+1\r\n",
        "    else:\r\n",
        "      high = mid-1\r\n",
        "  print(\"mid = \", mid, \" val = \", val)\r\n",
        "  print(lis)\r\n",
        "  return mid\r\n",
        "\r\n",
        "if __name__ == \"__main__\":\r\n",
        "  a = [2,5,3,7,11,8,10,13,6]\r\n",
        "  lis = []\r\n",
        "  for i in a:\r\n",
        "    if (len(lis)==0):\r\n",
        "      lis.append(i)\r\n",
        "    else:\r\n",
        "      if (i<lis[-1]):\r\n",
        "        indi = binarySearch(lis, i, 0, len(lis))\r\n",
        "        lis[indi] = min(lis[indi], i)\r\n",
        "      else:\r\n",
        "        lis.append(i)\r\n",
        "  print(lis)"
      ],
      "execution_count": 29,
      "outputs": [
        {
          "output_type": "stream",
          "text": [
            "low = 0, high = 2, mid = 1\n",
            "mid =  1  val =  3\n",
            "[2, 5]\n",
            "low = 0, high = 4, mid = 2\n",
            "low = 3, high = 4, mid = 3\n",
            "mid =  3  val =  8\n",
            "[2, 3, 7, 11]\n",
            "low = 0, high = 6, mid = 3\n",
            "low = 0, high = 2, mid = 1\n",
            "mid =  1  val =  6\n",
            "[2, 3, 7, 8, 10, 13]\n",
            "[2, 3, 7, 8, 10, 13]\n"
          ],
          "name": "stdout"
        }
      ]
    },
    {
      "cell_type": "code",
      "metadata": {
        "colab": {
          "base_uri": "https://localhost:8080/"
        },
        "id": "eRTQFqg0il6N",
        "outputId": "624a8a6a-1297-43e7-e318-3bee0e040293"
      },
      "source": [
        "def bs(lis, val, low, high):\r\n",
        "  while (low<high):\r\n",
        "    mid = math.floor((low+high)/2)\r\n",
        "    if (arr[mid-1]<val and arr[mid]>val):\r\n",
        "      return mid\r\n",
        "    elif (arr[mid]<val):\r\n",
        "      low = mid+1\r\n",
        "    else:\r\n",
        "      high = mid-1\r\n",
        "    return mid\r\n",
        "\r\n",
        "arr = [2,5,3,7,11,8,10,13,6]\r\n",
        "res = []\r\n",
        "res.append(arr[0])\r\n",
        "for i in range(1, len(arr)):\r\n",
        "  if (arr[i]>lis[-1]):\r\n",
        "    lis.append(arr[i])\r\n",
        "  else:\r\n",
        "    lis[bs(lis, arr[i], 0, len(lis))] = arr[i]\r\n",
        "print(lis)\r\n",
        "       "
      ],
      "execution_count": 30,
      "outputs": [
        {
          "output_type": "stream",
          "text": [
            "[2, 3, 7, 6, 10, 13]\n"
          ],
          "name": "stdout"
        }
      ]
    }
  ]
}
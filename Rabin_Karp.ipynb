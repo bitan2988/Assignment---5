{
  "nbformat": 4,
  "nbformat_minor": 0,
  "metadata": {
    "colab": {
      "name": "Rabin-Karp.ipynb",
      "provenance": [],
      "collapsed_sections": [],
      "authorship_tag": "ABX9TyMWTMoUNBt+7ygXnUiqtad1",
      "include_colab_link": true
    },
    "kernelspec": {
      "name": "python3",
      "display_name": "Python 3"
    }
  },
  "cells": [
    {
      "cell_type": "markdown",
      "metadata": {
        "id": "view-in-github",
        "colab_type": "text"
      },
      "source": [
        "<a href=\"https://colab.research.google.com/github/bitan2988/DSA-cheatsheet-practice/blob/master/Rabin_Karp.ipynb\" target=\"_parent\"><img src=\"https://colab.research.google.com/assets/colab-badge.svg\" alt=\"Open In Colab\"/></a>"
      ]
    },
    {
      "cell_type": "markdown",
      "metadata": {
        "id": "g3bGaSJETWne"
      },
      "source": [
        "https://www.geeksforgeeks.org/rabin-karp-algorithm-for-pattern-searching/\r\n",
        "\r\n",
        "hash( txt[s+1 .. s+m] ) = ( d ( hash( txt[s .. s+m-1]) – txt[s]*h ) + txt[s + m] ) mod q\r\n",
        "\r\n",
        "hash( txt[s .. s+m-1] ) : Hash value at shift s. \r\n",
        "\r\n",
        "hash( txt[s+1 .. s+m] ) : Hash value at next shift (or shift s+1) \r\n",
        "\r\n",
        "d: Number of characters in the alphabet \r\n",
        "\r\n",
        "q: A prime number \r\n",
        "\r\n",
        "h: d^(m-1)\r\n"
      ]
    },
    {
      "cell_type": "code",
      "metadata": {
        "id": "2RUW6p0cppY-"
      },
      "source": [
        "txt = \"GEEKS FOR GEEKS\"\r\n",
        "pat = \"GEEK\"\r\n",
        "q = 101"
      ],
      "execution_count": 41,
      "outputs": []
    },
    {
      "cell_type": "markdown",
      "metadata": {
        "id": "Ge78PIN1mw0K"
      },
      "source": [
        "(d**m)%q   can also be derived by\r\n",
        "\r\n",
        "h = 1\r\n",
        "\r\n",
        "for i in range m:\r\n",
        "  \r\n",
        "  h = (h*d)%q"
      ]
    },
    {
      "cell_type": "code",
      "metadata": {
        "id": "s9mzMgN9TYJd"
      },
      "source": [
        "d = 256  #no. of charcters in alphabet\r\n",
        "m = len(pat)        #length of patteern\r\n",
        "n = len(txt)       #length on text\r\n",
        "h = 1\r\n",
        "#finding value of h\r\n",
        "#where h = pow(d,m-1)%q\r\n",
        "for i in range(m-1):\r\n",
        "  h = (h*d)%q\r\n",
        "#print(\"h = \",h)\r\n",
        "#print(n,m)\r\n"
      ],
      "execution_count": 42,
      "outputs": []
    },
    {
      "cell_type": "code",
      "metadata": {
        "id": "Q97dfQXJqd4z"
      },
      "source": [
        "#finding hash values of pattern and of the first window\r\n",
        "p=t=0\r\n",
        "for i in range(m):\r\n",
        "  p = (d*p+ord(pat[i]))%q                #hash for the pattern\r\n",
        "  #print(\"p = \",p,\" pat[i] = \",pat[i])\r\n",
        "  t = (d*t+ord(txt[i]))%q                #hash for the first window\r\n",
        "  #print(\"t = \",t,\" txt[i] = \",txt[i])"
      ],
      "execution_count": 43,
      "outputs": []
    },
    {
      "cell_type": "code",
      "metadata": {
        "colab": {
          "base_uri": "https://localhost:8080/"
        },
        "id": "xffcjOtpqd3M",
        "outputId": "3c638475-b28f-4427-df4f-108c71f4e780"
      },
      "source": [
        "\r\n",
        "#slide the window\r\n",
        "for i in range(n-m+1):        \r\n",
        "  flag = 1\r\n",
        "  if (p==t):             #if the hash value matches then only check for each letter                               \r\n",
        "    for j in range(m):\r\n",
        "      if (txt[i+j]!=pat[j]):\r\n",
        "        flag = 0\r\n",
        "        break\r\n",
        "    if (flag):\r\n",
        "      print(\"Found the pattern at index\",i)             \r\n",
        "  if (i<(n-m)):\r\n",
        "    t = (d*(t-ord(txt[i])*h) + ord(txt[i+m]))%q                      #if hash don't match calculate the hash for next window\r\n",
        "    #print(\"i = \",i,\" p = \",p,\" t = \",t)\r\n",
        "    if (t<0):\r\n",
        "      t = t+q\r\n"
      ],
      "execution_count": 44,
      "outputs": [
        {
          "output_type": "stream",
          "text": [
            "Found the pattern at index 0\n",
            "Found the pattern at index 10\n"
          ],
          "name": "stdout"
        }
      ]
    },
    {
      "cell_type": "code",
      "metadata": {
        "id": "uNgNhq0gv_7m"
      },
      "source": [
        ""
      ],
      "execution_count": null,
      "outputs": []
    }
  ]
}
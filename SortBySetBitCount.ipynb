{
  "nbformat": 4,
  "nbformat_minor": 0,
  "metadata": {
    "colab": {
      "name": "SortBySetBitCount.ipynb",
      "provenance": [],
      "collapsed_sections": [],
      "authorship_tag": "ABX9TyPpD+hXlwEverp73XaiqquG",
      "include_colab_link": true
    },
    "kernelspec": {
      "name": "python3",
      "display_name": "Python 3"
    }
  },
  "cells": [
    {
      "cell_type": "markdown",
      "metadata": {
        "id": "view-in-github",
        "colab_type": "text"
      },
      "source": [
        "<a href=\"https://colab.research.google.com/github/bitan2988/DSA-cheatsheet-practice/blob/master/SortBySetBitCount.ipynb\" target=\"_parent\"><img src=\"https://colab.research.google.com/assets/colab-badge.svg\" alt=\"Open In Colab\"/></a>"
      ]
    },
    {
      "cell_type": "code",
      "metadata": {
        "colab": {
          "base_uri": "https://localhost:8080/"
        },
        "id": "BPiFB83bAhi2",
        "outputId": "9a5368bf-375f-46e7-f414-fa4ec4ccbecb"
      },
      "source": [
        "# Using custom comparator lambda function\r\n",
        "arr = [91, 2, 3, 63, 5, 6, 7, 15, 31]\r\n",
        "\r\n",
        "\r\n",
        "# form a tuple with val, index\r\n",
        "n = len(arr)\r\n",
        "arr = [(arr[i], i) for i in range(n)]\r\n",
        "print(arr)\r\n",
        "\r\n",
        "\r\n",
        "def countSetBits(val):\r\n",
        "  cnt = 0\r\n",
        "  while (val>0):\r\n",
        "    val = (val  and (val-1))\r\n",
        "    cnt +=1\r\n",
        "  return cnt\r\n",
        "\r\n",
        "\r\n",
        "# first criteria to sort is number of set bits, then the index\r\n",
        "# val[0] = actual number      val[1] = index\r\n",
        "\r\n",
        "# the position of set bit is towards MSB increases as w move down the number sequence     --> even though 3 and 5 have same amount of set bits still set bit of 5 is more towards MSB than that \r\n",
        "# of 3 as 5>3\r\n",
        "sorted_arr = sorted(arr, key=lambda val: (countSetBits(val[0]), n-val[1]), reverse=True)\r\n",
        "# key --> Optional. A Function to execute to decide the order. Default is None\r\n",
        "# lambda function is the function which is deciding the aequence hte array will be sorted in \r\n",
        "print(sorted_arr)\r\n",
        "# taking on the actual value form the tuple\r\n",
        "sorted_arr = [val[0] for val in sorted_arr]\r\n",
        "print(sorted_arr)\r\n"
      ],
      "execution_count": 10,
      "outputs": [
        {
          "output_type": "stream",
          "text": [
            "[(91, 0), (2, 1), (3, 2), (63, 3), (5, 4), (6, 5), (7, 6), (15, 7), (31, 8)]\n",
            "[(91, 0), (63, 3), (31, 8), (15, 7), (7, 6), (6, 5), (5, 4), (3, 2), (2, 1)]\n",
            "[91, 63, 31, 15, 7, 6, 5, 3, 2]\n"
          ],
          "name": "stdout"
        }
      ]
    },
    {
      "cell_type": "code",
      "metadata": {
        "id": "tqItcYgHD9AK"
      },
      "source": [
        ""
      ],
      "execution_count": null,
      "outputs": []
    }
  ]
}
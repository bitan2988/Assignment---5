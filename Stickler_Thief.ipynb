{
  "nbformat": 4,
  "nbformat_minor": 0,
  "metadata": {
    "colab": {
      "name": "Stickler Thief.ipynb",
      "provenance": [],
      "collapsed_sections": [],
      "authorship_tag": "ABX9TyN6mCHdNDkWuCRmEegerrTK",
      "include_colab_link": true
    },
    "kernelspec": {
      "name": "python3",
      "display_name": "Python 3"
    }
  },
  "cells": [
    {
      "cell_type": "markdown",
      "metadata": {
        "id": "view-in-github",
        "colab_type": "text"
      },
      "source": [
        "<a href=\"https://colab.research.google.com/github/bitan2988/DSA-cheatsheet-practice/blob/master/Stickler_Thief.ipynb\" target=\"_parent\"><img src=\"https://colab.research.google.com/assets/colab-badge.svg\" alt=\"Open In Colab\"/></a>"
      ]
    },
    {
      "cell_type": "markdown",
      "metadata": {
        "id": "I4GJET0g2ATs"
      },
      "source": [
        "**https://www.youtube.com/watch?v=6w60Zi1NtL8&feature=youtu.be**\r\n",
        "\r\n",
        "Stickler the thief wants to loot money from a society having n houses in a single line. He is a weird person and follows a certain rule when looting the houses. According to the rule, he will never loot two consecutive houses. At the same time, he wants to maximize the amount he loots. The thief knows which house has what amount of money but is unable to come up with an optimal looting strategy. He asks for your help to find the maximum money he can get if he strictly follows the rule. Each house has a[i] amount of money present in it\r\n",
        "\r\n",
        "*Algorithm: Loop for all elements in arr[] and maintain two sums incl and excl where incl = Max sum including the previous element and excl = Max sum excluding the previous element.*\r\n",
        "\r\n",
        "*Max sum excluding the current element will be max(incl, excl) and max sum including the current element will be excl + current element (Note that only excl is considered because elements cannot be adjacent).*\r\n",
        "\r\n",
        "*At the end of the loop return max of incl and excl.* \r\n"
      ]
    },
    {
      "cell_type": "code",
      "metadata": {
        "colab": {
          "base_uri": "https://localhost:8080/"
        },
        "id": "NsUjwdru165O",
        "outputId": "94ca1601-db8c-48cc-e341-e21f60cdcc74"
      },
      "source": [
        "nums = [5,15,100,90,5,5]\r\n",
        "incl = nums[0]\r\n",
        "excl = 0\r\n",
        "for i in range(1,len(nums)):\r\n",
        "  temp = incl     #storing previous value og inclusive as if we include this element then we cant store the prvious value  as they will be adjacent\r\n",
        "  incl =  excl + nums[i]\r\n",
        "  excl = max(temp, excl)\r\n",
        "print(incl)"
      ],
      "execution_count": 6,
      "outputs": [
        {
          "output_type": "stream",
          "text": [
            "110\n"
          ],
          "name": "stdout"
        }
      ]
    }
  ]
}
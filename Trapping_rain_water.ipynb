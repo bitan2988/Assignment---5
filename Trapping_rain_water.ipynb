{
  "nbformat": 4,
  "nbformat_minor": 0,
  "metadata": {
    "colab": {
      "name": "Trapping_rain_water.ipynb",
      "provenance": [],
      "collapsed_sections": [],
      "authorship_tag": "ABX9TyOSbGwl0NNLcoF2m1euBSdb",
      "include_colab_link": true
    },
    "kernelspec": {
      "name": "python3",
      "display_name": "Python 3"
    }
  },
  "cells": [
    {
      "cell_type": "markdown",
      "metadata": {
        "id": "view-in-github",
        "colab_type": "text"
      },
      "source": [
        "<a href=\"https://colab.research.google.com/github/bitan2988/DSA-cheatsheet-practice/blob/master/Trapping_rain_water.ipynb\" target=\"_parent\"><img src=\"https://colab.research.google.com/assets/colab-badge.svg\" alt=\"Open In Colab\"/></a>"
      ]
    },
    {
      "cell_type": "markdown",
      "metadata": {
        "id": "5DwpwlupO88c"
      },
      "source": [
        "https://www.geeksforgeeks.org/trapping-rain-water/\r\n",
        "\r\n",
        "We look for the tallest boundry on the left of the  element and the tallest boundry on the right of that elemnt.\r\n",
        "The amount of water stored will be equal to the minimun of  the tallest  boundry on right and the boundry on the left minus the wall length.\r\n",
        "\r\n",
        "time = O(n)\r\n",
        "space = O(1)"
      ]
    },
    {
      "cell_type": "code",
      "metadata": {
        "colab": {
          "base_uri": "https://localhost:8080/"
        },
        "id": "ULjMiJ6SO8LQ",
        "outputId": "1d044c8a-6b08-4349-cf1a-669a6700526e"
      },
      "source": [
        "height = [0, 1, 0, 2, 1, 0, 1, 3, 2, 1, 2, 1]\r\n",
        "res = 0\r\n",
        "for i in range(1,len(height)-1):    #as height[0] wont have a bar on its left and height[len(height)-1] wont have  a bar on its right and are just the boundries\r\n",
        "  left = height[i]\r\n",
        "  for j in range(i):\r\n",
        "    left = max(left,height[j])\r\n",
        "  right = height[i]\r\n",
        "  for j in range(i+1,len(height)):\r\n",
        "    right = max(right,height[j])\r\n",
        "  \r\n",
        "  res = res + (min(left,right)-height[i])\r\n",
        "print(res)\r\n"
      ],
      "execution_count": 3,
      "outputs": [
        {
          "output_type": "stream",
          "text": [
            "6\n"
          ],
          "name": "stdout"
        }
      ]
    },
    {
      "cell_type": "code",
      "metadata": {
        "id": "FRoANpNsSKHW"
      },
      "source": [
        ""
      ],
      "execution_count": null,
      "outputs": []
    }
  ]
}
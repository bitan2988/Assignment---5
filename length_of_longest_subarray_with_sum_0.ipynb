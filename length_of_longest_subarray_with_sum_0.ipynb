{
  "nbformat": 4,
  "nbformat_minor": 0,
  "metadata": {
    "colab": {
      "name": "length_of_longest_subarray_with_sum_0.ipynb",
      "provenance": [],
      "collapsed_sections": [],
      "authorship_tag": "ABX9TyN26wh6qCdAx7Ntc3Au7YDi",
      "include_colab_link": true
    },
    "kernelspec": {
      "name": "python3",
      "display_name": "Python 3"
    }
  },
  "cells": [
    {
      "cell_type": "markdown",
      "metadata": {
        "id": "view-in-github",
        "colab_type": "text"
      },
      "source": [
        "<a href=\"https://colab.research.google.com/github/bitan2988/DSA-cheatsheet-practice/blob/master/length_of_longest_subarray_with_sum_0.ipynb\" target=\"_parent\"><img src=\"https://colab.research.google.com/assets/colab-badge.svg\" alt=\"Open In Colab\"/></a>"
      ]
    },
    {
      "cell_type": "code",
      "metadata": {
        "id": "0S9wylcUa8LR"
      },
      "source": [
        "n = int(input(\"enter a n value:\"))\r\n",
        "d = {}\r\n",
        "\r\n",
        "for i in range(n):\r\n",
        "    keys = input() # here i have taken keys as strings\r\n",
        "    values = int(input()) # here i have taken values as integers\r\n",
        "    d[keys] = values\r\n",
        "print(d)"
      ],
      "execution_count": null,
      "outputs": []
    },
    {
      "cell_type": "code",
      "metadata": {
        "id": "HYpSy3nWb3JW"
      },
      "source": [
        "d = {}\r\n",
        "nums = list(map(int,input().split()))\r\n",
        "sum = 0\r\n",
        "maxi = 0\r\n",
        "for i in range(len(nums)):\r\n",
        "  sum +=nums[i]\r\n",
        "  if (sum==0):\r\n",
        "    maxi = i+1\r\n",
        "  else:\r\n",
        "    if sum in d.keys():\r\n",
        "      maxi = max(maxi, (i-d[sum]-1))\r\n",
        "      print(f\"subarray at index {i}\")\r\n",
        "    else:\r\n",
        "      d[sum] = i\r\n",
        "print(d)\r\n",
        "print(f\"longest  subarray is of length {maxi}\")\r\n"
      ],
      "execution_count": null,
      "outputs": []
    }
  ]
}
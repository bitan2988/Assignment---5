{
  "nbformat": 4,
  "nbformat_minor": 0,
  "metadata": {
    "colab": {
      "name": "minm_bracket_reversals.ipynb",
      "provenance": [],
      "collapsed_sections": [],
      "authorship_tag": "ABX9TyO44XPaWBULJqEY53gkntX4",
      "include_colab_link": true
    },
    "kernelspec": {
      "name": "python3",
      "display_name": "Python 3"
    }
  },
  "cells": [
    {
      "cell_type": "markdown",
      "metadata": {
        "id": "view-in-github",
        "colab_type": "text"
      },
      "source": [
        "<a href=\"https://colab.research.google.com/github/bitan2988/DSA-cheatsheet-practice/blob/master/minm_bracket_reversals.ipynb\" target=\"_parent\"><img src=\"https://colab.research.google.com/assets/colab-badge.svg\" alt=\"Open In Colab\"/></a>"
      ]
    },
    {
      "cell_type": "markdown",
      "metadata": {
        "id": "uTBCRbqpL41-"
      },
      "source": [
        "**https://www.geeksforgeeks.org/minimum-number-of-bracket-reversals-needed-to-make-an-expression-balanced/**\r\n",
        "\r\n"
      ]
    },
    {
      "cell_type": "code",
      "metadata": {
        "colab": {
          "base_uri": "https://localhost:8080/"
        },
        "id": "TJlDbeJGE5M-",
        "outputId": "10194d61-277a-4c0e-f6da-52201f00cab4"
      },
      "source": [
        "import math\r\n",
        "\r\n",
        "s = \"{{}}}}\"\r\n",
        "i = 0\r\n",
        "j = 1\r\n",
        "l = len(s)\r\n",
        "if (l%2):\r\n",
        "  print(\"NOT POSSIBLE\")\r\n",
        "else:\r\n",
        "  # Removing the perfect brackets --> {}\r\n",
        "  while (j<len(s)):\r\n",
        "    if (s[i]=='{' and s[j]=='}'):\r\n",
        "      s = s[:i]+s[j+1:]\r\n",
        "      if (i==0):\r\n",
        "        i = 0\r\n",
        "        j = 1\r\n",
        "      else:\r\n",
        "        i -=1\r\n",
        "        j -=1\r\n",
        "    else:\r\n",
        "      i +=1\r\n",
        "      j +=1\r\n",
        "  print(s)             #string without the perfect brackets\r\n",
        "  openbracket = closebracket = 0\r\n",
        "  #counting number of closed and open bracket\r\n",
        "  for bracket in range(len(s)):\r\n",
        "    if (s[bracket]=='{'):\r\n",
        "      openbracket +=1\r\n",
        "    else:\r\n",
        "      closebracket +=1\r\n",
        "  print(\"MINIMUM REVERSALS REQUIRED = \",math.ceil(openbracket/2)+math.ceil(closebracket/2))\r\n",
        "\r\n",
        "\r\n",
        "\r\n",
        "\r\n"
      ],
      "execution_count": 12,
      "outputs": [
        {
          "output_type": "stream",
          "text": [
            "}}\n",
            "MINIMUM REVERSALS REQUIRED =  1\n"
          ],
          "name": "stdout"
        }
      ]
    },
    {
      "cell_type": "markdown",
      "metadata": {
        "id": "RZEL-SiwL4zT"
      },
      "source": [
        ""
      ]
    },
    {
      "cell_type": "code",
      "metadata": {
        "id": "I3TJ-WJTI-2V"
      },
      "source": [
        ""
      ],
      "execution_count": null,
      "outputs": []
    }
  ]
}
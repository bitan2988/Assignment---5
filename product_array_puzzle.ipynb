{
  "nbformat": 4,
  "nbformat_minor": 0,
  "metadata": {
    "colab": {
      "name": "product_array_puzzle.ipynb",
      "provenance": [],
      "collapsed_sections": [],
      "authorship_tag": "ABX9TyNjKi+YcyEwTATFB3HzEUXF",
      "include_colab_link": true
    },
    "kernelspec": {
      "name": "python3",
      "display_name": "Python 3"
    }
  },
  "cells": [
    {
      "cell_type": "markdown",
      "metadata": {
        "id": "view-in-github",
        "colab_type": "text"
      },
      "source": [
        "<a href=\"https://colab.research.google.com/github/bitan2988/DSA-cheatsheet-practice/blob/master/product_array_puzzle.ipynb\" target=\"_parent\"><img src=\"https://colab.research.google.com/assets/colab-badge.svg\" alt=\"Open In Colab\"/></a>"
      ]
    },
    {
      "cell_type": "markdown",
      "metadata": {
        "id": "NSdW6KA4uU8m"
      },
      "source": [
        "x = a * b * c * d\r\n",
        "\r\n",
        "**log(x) = log(a * b * c * d)**\r\n",
        "\r\n",
        "**log(x) = log(a) + log(b) + log(c) + log(d)**\r\n",
        "\r\n",
        "**x = antilog(log(a) + log(b) + log(c) + log(d))**\r\n",
        "\r\n",
        "So the idea is simple,\r\n",
        "Traverse the array and find the sum of log of all the elements,\r\n",
        "**log(a[0]) + log(a[1]) + .. + log(a[n-1])**\r\n",
        "\r\n",
        "Then again traverse through the array and find the product using this formula.\r\n",
        "**antilog((log(a[0]) + log(a[1]) +.. + log(a[n-1])) - log(a[i]))**"
      ]
    },
    {
      "cell_type": "code",
      "metadata": {
        "colab": {
          "base_uri": "https://localhost:8080/"
        },
        "id": "aHO-SjK7uKEB",
        "outputId": "a33179c4-be94-4b65-edbb-316a242f9b2f"
      },
      "source": [
        "import math\r\n",
        "eps  = 1e-9    # epsilon value to maintain precision\r\n",
        "nums = [1,2,3,4]\r\n",
        "sum = 0\r\n",
        "# log to find product for very large numbers\r\n",
        "for i,num in enumerate(nums):\r\n",
        "  nums[i] = math.log10(num)\r\n",
        "  sum +=nums[i]\r\n",
        "# antilog to find original product value\r\n",
        "for i,num in enumerate(nums):\r\n",
        "  nums[i] = int((eps + pow(10.00, sum - nums[i])))\r\n",
        "print(nums)\r\n"
      ],
      "execution_count": 3,
      "outputs": [
        {
          "output_type": "stream",
          "text": [
            "[24, 12, 8, 6]\n"
          ],
          "name": "stdout"
        }
      ]
    },
    {
      "cell_type": "code",
      "metadata": {
        "id": "WCjX42R0vn26"
      },
      "source": [
        ""
      ],
      "execution_count": null,
      "outputs": []
    }
  ]
}